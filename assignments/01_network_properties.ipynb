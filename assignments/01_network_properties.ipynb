{
 "cells": [
  {
   "cell_type": "markdown",
   "metadata": {},
   "source": [
    "# Collect and Analyze a Twitter Network\n",
    "[Effrosyni Simou](http://lts4.epfl.ch/simou), *PhD Student*, [EPFL](http://epfl.ch) [LTS4](http://lts4.epfl.ch)"
   ]
  },
  {
   "cell_type": "markdown",
   "metadata": {},
   "source": [
    "# Objective of Exercise\n",
    "The aim of this exercise is to learn how to create your own, real network using data collected from the Internet and then to discover some properties of the collected network. "
   ]
  },
  {
   "cell_type": "markdown",
   "metadata": {},
   "source": [
    "# Resources\n",
    "You might want to have a look at the following resources before starting:\n",
    "\n",
    "* [Twitter REST API](https://dev.twitter.com/rest/public)\n",
    "* [Tweepy Documentation](http://tweepy.readthedocs.io/en/v3.5.0/)\n",
    "* [Tutorial \"Mining Twitter data with Python\"](https://marcobonzanini.com/2015/03/02/mining-twitter-data-with-python-part-1/)"
   ]
  },
  {
   "cell_type": "markdown",
   "metadata": {},
   "source": [
    "# 1. Collect a Twitter Network"
   ]
  },
  {
   "cell_type": "markdown",
   "metadata": {},
   "source": [
    "In order to collect data from Twitter you will need to generate access tokens.  To do this you will need to register a [client application with Twitter](https://apps.twitter.com/). Once you are done you should have your tokens. You can now create a `credentials.ini` file as follows:\n",
    "```\n",
    "[twitter]\n",
    "consumer_key = YOUR-CONSUMER-KEY\n",
    "consumer_secret = YOUR-CONSUMER-SECRET\n",
    "access_token = YOUR-ACCESS-TOKEN\n",
    "access_secret = YOUR-ACCESS-SECRET\n",
    "```\n",
    "In this way you will have this information readily available to you. "
   ]
  },
  {
   "cell_type": "code",
   "execution_count": 328,
   "metadata": {},
   "outputs": [],
   "source": [
    "%matplotlib inline\n",
    "\n",
    "import random\n",
    "import configparser\n",
    "import matplotlib.pyplot as plt\n",
    "import numpy as np\n",
    "from pprint import pprint\n",
    "import tweepy  # you will need to install tweepy first\n",
    "import collections"
   ]
  },
  {
   "cell_type": "code",
   "execution_count": 2,
   "metadata": {},
   "outputs": [],
   "source": [
    "# Read the confidential token.\n",
    "credentials = configparser.ConfigParser()\n",
    "credentials.read('credentials.ini')\n",
    "\n",
    "#authentication\n",
    "auth = tweepy.OAuthHandler(credentials.get('twitter', 'consumer_key'), credentials.get('twitter', 'consumer_secret'))\n",
    "auth.set_access_token(credentials.get('twitter', 'access_token'), credentials.get('twitter', 'access_secret'))\n",
    "\n",
    "#construct API instance\n",
    "#deal with rate limits and notify when delayed because of rate limits\n",
    "api = tweepy.API(auth,wait_on_rate_limit=True, wait_on_rate_limit_notify=True)"
   ]
  },
  {
   "cell_type": "markdown",
   "metadata": {},
   "source": [
    "Now you are all set up to start collecting data from Twitter! "
   ]
  },
  {
   "cell_type": "markdown",
   "metadata": {},
   "source": [
    "In this exercise we will construct a network with the following logic:\n",
    "\n",
    "1) We will chose a `user_id` in Twitter to be our first node. \n",
    "\n",
    "2) We will find (some) of the users who are both following `user_id` and are being followed by `user_id`. From now on we will call such users \"connections\" of `user_id`. We will place these user ids in a list called `first_nodes`. \n",
    "\n",
    "3) For every node in the list `first_nodes` we will then find (some) of the users who are following and are being followed by this node (aka the connections of this node). The user ids collected in this step will be placed in a list called `second_nodes`.\n",
    "\n",
    "4) The collection of the ids of all nodes (aka Twitter users) that we have collected so far will be placed in a list called `all_nodes`.\n",
    "\n",
    "5) Since we have only collected a subset of all possible \"connections\" for our nodes we have to check if there are any remaining inner connections that we have missed.\n",
    "\n",
    "The entire network is to be organized in a dictionary with entries that will have as key the Twitter id of the user (this is a number characterizing each user in Twitter) and as value the list of ids of his connections.\n",
    "\n",
    "So, let us begin. The first thing that you will have to do is to chose the node from which everything will start. I have chosen the Twitter account of [Applied Machine Learning Days](https://www.appliedmldays.org) that will take place in January 2018 in EPFL. You may change that if you wish to, but please make sure that the user you chose has both followers and friends and that he allows you to access this data."
   ]
  },
  {
   "cell_type": "code",
   "execution_count": 499,
   "metadata": {},
   "outputs": [],
   "source": [
    "user = 'appliedmldays '\n",
    "\n",
    "user_id=api.get_user(user).id"
   ]
  },
  {
   "cell_type": "markdown",
   "metadata": {},
   "source": [
    "In the following cell write a function that takes as an argument the Twitter id of a user and returns a list with the **ids** of his connections. Take into account the case where a user does not allow you to access this information.\n",
    "\n",
    "**Reminder:** By connections we mean users that are both followers and friends of a given user."
   ]
  },
  {
   "cell_type": "code",
   "execution_count": 206,
   "metadata": {},
   "outputs": [],
   "source": [
    "def find_connections(my_user_id,page_max):\n",
    "    # gets the number of followers and friends\n",
    "    followers = []\n",
    "    friends = []\n",
    "    \n",
    "    cursor_friends = tweepy.Cursor(api.friends_ids, id=my_user_id, count=5000)\n",
    "    for page in cursor_friends.pages(page_max):\n",
    "        friends = friends + page\n",
    "    \n",
    "    cursor_followers = tweepy.Cursor(api.followers_ids, id=my_user_id, count=5000)\n",
    "    for page in cursor_followers.pages(page_max):\n",
    "        followers = followers + page\n",
    "        \n",
    "    # computes the intersection of those 2 sets : number of connections\n",
    "    connections = list(set(friends) & set(followers))\n",
    "    return connections"
   ]
  },
  {
   "cell_type": "code",
   "execution_count": 207,
   "metadata": {},
   "outputs": [
    {
     "name": "stdout",
     "output_type": "stream",
     "text": [
      "appliedmldays  has 139 connections\n"
     ]
    }
   ],
   "source": [
    "first_connections=find_connections(user_id,4)\n",
    "print('{} has {} connections'.format(user, len(first_connections)))\n"
   ]
  },
  {
   "cell_type": "markdown",
   "metadata": {},
   "source": [
    "Here we add a function that we will use indore to check if the user is not to \"big\" or not too \"small\", this uses 1 query,but will allow us not to fall on a too large connection (like a 1M followers account). This kind of connection would lead to a very long wait because we can only get 5000 users by page. This allows us to garantee later that we have downloaded all the connections of one user and that it was not limited by the number of pages in the cursor. "
   ]
  },
  {
   "cell_type": "code",
   "execution_count": 315,
   "metadata": {},
   "outputs": [],
   "source": [
    "def check_user(connect_user,min_num,max_num):\n",
    "    # check if user has protection of its tweets and if it has min/max number of followers/friends\n",
    "    User = api.get_user(connect_user);\n",
    "    if  (not User.protected) & \\\n",
    "        (min_num  < User.followers_count < max_num) &\\\n",
    "        (min_num  < User.friends_count < max_num):\n",
    "            \n",
    "        #print(\"follower : \" + str(User.followers_count))\n",
    "        #print(\"friends : \" + str(User.friends_count))\n",
    "        return True\n",
    "    else:\n",
    "        #print(\"follower : \" + str(User.followers_count))\n",
    "        #print(\"friends : \" + str(User.friends_count))\n",
    "        return False\n",
    "    "
   ]
  },
  {
   "cell_type": "markdown",
   "metadata": {},
   "source": [
    "Here we add a function that created a random list of users, checking that i is in the linits set by the previous function, and taking care of of unicity of the members in the list. "
   ]
  },
  {
   "cell_type": "code",
   "execution_count": 321,
   "metadata": {},
   "outputs": [],
   "source": [
    "def random_list(original_list,n_limit,min_num,max_num):\n",
    "    random_chosen_list = []\n",
    "    rejected_list = []\n",
    "    \n",
    "    while (len(random_chosen_list) < n_limit)  :\n",
    "        potential_choice = random.choice(list(set(original_list) - set(random_chosen_list) - set(rejected_list)))\n",
    "        if check_user(potential_choice,min_num,max_num):\n",
    "            random_chosen_list += [potential_choice]\n",
    "        else :\n",
    "            rejected_list += [potential_choice]\n",
    "\n",
    "    return random_chosen_list\n",
    "                \n",
    "            "
   ]
  },
  {
   "cell_type": "markdown",
   "metadata": {},
   "source": [
    "Collect your `first_nodes` and `second_nodes` and organize your collected nodes and their connections in the dictionary called `network`."
   ]
  },
  {
   "cell_type": "markdown",
   "metadata": {},
   "source": [
    "Hints:\n",
    "* Use `random.choice([1,3,4])` to randomly choose a number in `[1, 3, 4]`.\n",
    "* Use the `append` and `remove` methods to add and remove an element from a Python list.\n",
    "* The `pop` method removes the last item in the list."
   ]
  },
  {
   "cell_type": "code",
   "execution_count": 470,
   "metadata": {},
   "outputs": [
    {
     "name": "stdout",
     "output_type": "stream",
     "text": [
      "+ 2533212240\n",
      "|+ [255051048, 112683173, 1316984629, 2287331420, 599665849, 178525062, 149895490, 21773404, 248231788, 17270684]\n",
      "+ 3373861815\n",
      "|+ [299132357, 709386297358598144, 974579778, 124136807, 396746547, 14977851, 2638462108, 763052115392593920, 54895437, 770943875968098305]\n",
      "+ 18993881\n",
      "|+ [17462484, 538660461, 14169505, 2397, 233476521, 11690462, 1620555499, 80531573, 80325905, 26803521]\n",
      "+ 19480672\n",
      "|+ [198599803, 60541128, 11141482, 413850915, 3107101390, 14719912, 219229296, 386532355, 1194779960, 763052115392593920]\n",
      "+ 412275369\n",
      "|+ [2428017044, 763052115392593920, 392394305, 94305347, 56455192, 33455545, 2970597923, 2349231, 97416338, 397513638]\n",
      "+ 5408472\n",
      "|+ [36878380, 9469312, 83840835, 37399280, 985237088, 3288667846, 3301807233, 346568487, 14466330, 16307774]\n",
      "+ 3827734997\n",
      "|+ [1665035946, 476950107, 337780586, 771716816817324032, 2822884596, 323360434, 700793835207536640, 191531567, 38217933, 788770105723351040]\n",
      "+ 1462377758\n",
      "|+ [606276660, 2315211631, 808051518242979841, 16739177, 1696005139, 131643383, 2412857886, 853209186263592964, 1090378620, 25278292]\n",
      "+ 140953186\n",
      "|+ [2601209846, 747810194080563200, 3229980963, 16295095, 50429772, 470330975, 110720035, 1227879650, 171075163, 471996981]\n",
      "+ 89451259\n",
      "|+ [19063698, 17743823, 104211492, 764012354631675905, 6510972, 267213498, 4558969540, 2913897801, 18214510, 456700539]\n"
     ]
    }
   ],
   "source": [
    "original_network = {}\n",
    "first_nodes=[]\n",
    "eliminated_first_nodes =[]\n",
    "second_nodes=[]\n",
    "how_many= 10     #This is the number of connections you are sampling.\n",
    "                #Keep small (e.g.3) for development, larger later (e.g. 10)\n",
    "page_max = 4;\n",
    "max_num = page_max*5000\n",
    "min_num = how_many\n",
    "\n",
    "while len(first_nodes) < how_many :\n",
    "    # taking a potential 1st connection node.\n",
    "    potential_first_node = random.choice(list(set(first_connections) - set(first_nodes) - set(eliminated_first_nodes)))\n",
    "    \n",
    "    # check if user has minimum or maximum number of followers and friends (not connections)\n",
    "    if check_user(potential_connection,min_num,max_num):\n",
    "        # If the number is okay, then we can take all the connections of this node \n",
    "        potential_second_nodes = find_connections(potential_first_node,page_max)\n",
    "        \n",
    "        # we decide to eliminate the nodes that don't have enough connections \n",
    "        if len(potential_second_nodes) >= min_num : \n",
    "            \n",
    "            my_second_nodes = random_list(potential_second_nodes,how_many,min_num,max_num)\n",
    "            first_nodes += [potential_first_node] # We add the first node found to the list \n",
    "            second_nodes += my_second_nodes # We add the second nodes found to the list \n",
    "            original_network[potential_first_node] = my_second_nodes # We create the network entry\n",
    "            \n",
    "            # printing the nodes\n",
    "            print('+ ' + str(potential_first_node))\n",
    "            print(\"|+ \" + str(my_second_nodes))\n",
    "            \n",
    "        else: \n",
    "            eliminated_first_nodes += [potential_connection] # add the potential connection to the eleminated list\n",
    "        \n",
    "    else: \n",
    "        eliminated_first_nodes += [potential_connection] # add the potential connection to the eleminated list"
   ]
  },
  {
   "cell_type": "markdown",
   "metadata": {},
   "source": [
    "Here we save the `original_list` and use a copy for the following data treatment."
   ]
  },
  {
   "cell_type": "code",
   "execution_count": 472,
   "metadata": {},
   "outputs": [],
   "source": [
    "network.clear()\n",
    "network = original_network.copy()"
   ]
  },
  {
   "cell_type": "markdown",
   "metadata": {},
   "source": [
    "**Be careful!** You should only keep a small value for the `how_many` parameter while you are developing your code. In order to answer to the questions you should raise the value of this parameter to `how_many=10` at least. This will take a while to execute because of the API rate limit (plan your time accordingly). You should also remember to submit your jupyter notebook with the **output shown for a large value of the `how_many` parameter**. "
   ]
  },
  {
   "cell_type": "code",
   "execution_count": 473,
   "metadata": {},
   "outputs": [],
   "source": [
    "network[user_id] = first_nodes"
   ]
  },
  {
   "cell_type": "code",
   "execution_count": 474,
   "metadata": {},
   "outputs": [
    {
     "name": "stdout",
     "output_type": "stream",
     "text": [
      "{5408472: [36878380,\n",
      "           9469312,\n",
      "           83840835,\n",
      "           37399280,\n",
      "           985237088,\n",
      "           3288667846,\n",
      "           3301807233,\n",
      "           346568487,\n",
      "           14466330,\n",
      "           16307774],\n",
      " 18993881: [17462484,\n",
      "            538660461,\n",
      "            14169505,\n",
      "            2397,\n",
      "            233476521,\n",
      "            11690462,\n",
      "            1620555499,\n",
      "            80531573,\n",
      "            80325905,\n",
      "            26803521],\n",
      " 19480672: [198599803,\n",
      "            60541128,\n",
      "            11141482,\n",
      "            413850915,\n",
      "            3107101390,\n",
      "            14719912,\n",
      "            219229296,\n",
      "            386532355,\n",
      "            1194779960,\n",
      "            763052115392593920],\n",
      " 89451259: [19063698,\n",
      "            17743823,\n",
      "            104211492,\n",
      "            764012354631675905,\n",
      "            6510972,\n",
      "            267213498,\n",
      "            4558969540,\n",
      "            2913897801,\n",
      "            18214510,\n",
      "            456700539],\n",
      " 140953186: [2601209846,\n",
      "             747810194080563200,\n",
      "             3229980963,\n",
      "             16295095,\n",
      "             50429772,\n",
      "             470330975,\n",
      "             110720035,\n",
      "             1227879650,\n",
      "             171075163,\n",
      "             471996981],\n",
      " 412275369: [2428017044,\n",
      "             763052115392593920,\n",
      "             392394305,\n",
      "             94305347,\n",
      "             56455192,\n",
      "             33455545,\n",
      "             2970597923,\n",
      "             2349231,\n",
      "             97416338,\n",
      "             397513638],\n",
      " 1462377758: [606276660,\n",
      "              2315211631,\n",
      "              808051518242979841,\n",
      "              16739177,\n",
      "              1696005139,\n",
      "              131643383,\n",
      "              2412857886,\n",
      "              853209186263592964,\n",
      "              1090378620,\n",
      "              25278292],\n",
      " 2533212240: [255051048,\n",
      "              112683173,\n",
      "              1316984629,\n",
      "              2287331420,\n",
      "              599665849,\n",
      "              178525062,\n",
      "              149895490,\n",
      "              21773404,\n",
      "              248231788,\n",
      "              17270684],\n",
      " 3373861815: [299132357,\n",
      "              709386297358598144,\n",
      "              974579778,\n",
      "              124136807,\n",
      "              396746547,\n",
      "              14977851,\n",
      "              2638462108,\n",
      "              763052115392593920,\n",
      "              54895437,\n",
      "              770943875968098305],\n",
      " 3827734997: [1665035946,\n",
      "              476950107,\n",
      "              337780586,\n",
      "              771716816817324032,\n",
      "              2822884596,\n",
      "              323360434,\n",
      "              700793835207536640,\n",
      "              191531567,\n",
      "              38217933,\n",
      "              788770105723351040],\n",
      " 763052115392593920: [2533212240,\n",
      "                      3373861815,\n",
      "                      18993881,\n",
      "                      19480672,\n",
      "                      412275369,\n",
      "                      5408472,\n",
      "                      3827734997,\n",
      "                      1462377758,\n",
      "                      140953186,\n",
      "                      89451259]}\n"
     ]
    }
   ],
   "source": [
    "pprint(network)"
   ]
  },
  {
   "cell_type": "markdown",
   "metadata": {},
   "source": [
    "Here we remove the duplicates in `second_nodes`. Also we create the `all_nodes` vector and remove duplicates while keeping the ranking of it. "
   ]
  },
  {
   "cell_type": "code",
   "execution_count": 475,
   "metadata": {},
   "outputs": [],
   "source": [
    "#removes the duplicates in second nodes\n",
    "second_nodes = list(set(second_nodes) - set(first_nodes))\n",
    "#gets every node of the network dict.\n",
    "all_nodes =  first_nodes +[user_id] + second_nodes\n",
    "#removes all the duplicates\n",
    "all_nodes = list(collections.OrderedDict.fromkeys(all_nodes))"
   ]
  },
  {
   "cell_type": "code",
   "execution_count": 476,
   "metadata": {},
   "outputs": [
    {
     "name": "stdout",
     "output_type": "stream",
     "text": [
      "There are 10 first hop nodes\n",
      "There are 98 second hop nodes\n",
      "There are overall 108 nodes in the collected network\n"
     ]
    }
   ],
   "source": [
    "print('There are {} first hop nodes'.format(len(first_nodes)))\n",
    "print('There are {} second hop nodes'.format(len(second_nodes)))\n",
    "print('There are overall {} nodes in the collected network'.format(len(all_nodes)))"
   ]
  },
  {
   "cell_type": "code",
   "execution_count": 477,
   "metadata": {},
   "outputs": [],
   "source": [
    "for i in second_nodes:\n",
    "    network[i]= []"
   ]
  },
  {
   "cell_type": "markdown",
   "metadata": {},
   "source": [
    "Find the inner connections between your collected nodes that you might have missed because you sampled the connections.\n",
    "For this we check 2 cases in the list : \n",
    "- We add to the dictionnary of the first_nodes the original user_id\n",
    "- We verifiy for every second nodes the potential inner connections by getting every connections of every node. "
   ]
  },
  {
   "cell_type": "code",
   "execution_count": 479,
   "metadata": {},
   "outputs": [
    {
     "name": "stdout",
     "output_type": "stream",
     "text": [
      "NODE : 763052115392593920 -> 10 th node\n",
      "NODE : 709386297358598144 -> 11 th node\n",
      "Rate limit reached. Sleeping for: 692\n",
      "NODE : 770943875968098305 -> 12 th node\n",
      "NODE : 386532355 -> 13 th node\n",
      "NODE : 771716816817324032 -> 14 th node\n",
      "NODE : 700793835207536640 -> 15 th node\n",
      "NODE : 788770105723351040 -> 16 th node\n",
      "NODE : 808051518242979841 -> 17 th node\n",
      "NODE : 853209186263592964 -> 18 th node\n",
      "NODE : 747810194080563200 -> 19 th node\n",
      "NODE : 764012354631675905 -> 20 th node\n",
      "NODE : 80325905 -> 21 th node\n",
      "NODE : 1696005139 -> 22 th node\n",
      "NODE : 56455192 -> 23 th node\n",
      "NODE : 14466330 -> 24 th node\n",
      "Rate limit reached. Sleeping for: 893\n",
      "NODE : 2412857886 -> 25 th node\n",
      "NODE : 2970597923 -> 26 th node\n",
      "NODE : 110720035 -> 27 th node\n",
      "NODE : 104211492 -> 28 th node\n",
      "NODE : 413850915 -> 29 th node\n",
      "NODE : 3229980963 -> 30 th node\n",
      "NODE : 346568487 -> 31 th node\n",
      "NODE : 255051048 -> 32 th node\n",
      "NODE : 36878380 -> 33 th node\n",
      "NODE : 191531567 -> 34 th node\n",
      "NODE : 396746547 -> 35 th node\n",
      "NODE : 606276660 -> 36 th node\n",
      "Rate limit reached. Sleeping for: 891\n",
      "NODE : 471996981 -> 37 th node\n",
      "NODE : 1316984629 -> 38 th node\n",
      "NODE : 1194779960 -> 39 th node\n",
      "NODE : 14977851 -> 40 th node\n",
      "NODE : 16307774 -> 41 th node\n",
      "NODE : 392394305 -> 42 th node\n",
      "NODE : 974579778 -> 43 th node\n",
      "NODE : 94305347 -> 44 th node\n",
      "NODE : 26803521 -> 45 th node\n",
      "NODE : 149895490 -> 46 th node\n",
      "NODE : 83840835 -> 47 th node\n",
      "NODE : 2913897801 -> 48 th node\n",
      "NODE : 50429772 -> 49 th node\n",
      "NODE : 54895437 -> 50 th node\n",
      "NODE : 25278292 -> 51 th node\n",
      "Rate limit reached. Sleeping for: 891\n",
      "NODE : 476950107 -> 52 th node\n",
      "NODE : 21773404 -> 53 th node\n",
      "NODE : 2287331420 -> 54 th node\n",
      "NODE : 171075163 -> 55 th node\n",
      "NODE : 470330975 -> 56 th node\n",
      "NODE : 985237088 -> 57 th node\n",
      "NODE : 2397 -> 58 th node\n",
      "NODE : 124136807 -> 59 th node\n",
      "NODE : 16739177 -> 60 th node\n",
      "NODE : 11141482 -> 61 th node\n",
      "NODE : 337780586 -> 62 th node\n",
      "NODE : 248231788 -> 63 th node\n",
      "NODE : 538660461 -> 64 th node\n",
      "NODE : 18214510 -> 65 th node\n",
      "Rate limit reached. Sleeping for: 892\n",
      "NODE : 2315211631 -> 66 th node\n",
      "NODE : 219229296 -> 67 th node\n",
      "NODE : 80531573 -> 68 th node\n",
      "NODE : 198599803 -> 69 th node\n",
      "NODE : 456700539 -> 70 th node\n",
      "NODE : 1090378620 -> 71 th node\n",
      "NODE : 6510972 -> 72 th node\n",
      "NODE : 9469312 -> 73 th node\n",
      "NODE : 3301807233 -> 74 th node\n",
      "NODE : 178525062 -> 75 th node\n",
      "NODE : 97416338 -> 76 th node\n",
      "NODE : 19063698 -> 77 th node\n",
      "NODE : 2428017044 -> 78 th node\n",
      "NODE : 2638462108 -> 79 th node\n",
      "Rate limit reached. Sleeping for: 892\n",
      "NODE : 17270684 -> 80 th node\n",
      "NODE : 14169505 -> 81 th node\n",
      "NODE : 112683173 -> 82 th node\n",
      "NODE : 397513638 -> 83 th node\n",
      "NODE : 14719912 -> 84 th node\n",
      "NODE : 233476521 -> 85 th node\n",
      "NODE : 1665035946 -> 86 th node\n",
      "NODE : 2349231 -> 87 th node\n",
      "NODE : 323360434 -> 88 th node\n",
      "NODE : 16295095 -> 89 th node\n",
      "NODE : 599665849 -> 90 th node\n",
      "NODE : 267213498 -> 91 th node\n",
      "Rate limit reached. Sleeping for: 890\n",
      "NODE : 33455545 -> 92 th node\n",
      "NODE : 4558969540 -> 93 th node\n",
      "NODE : 299132357 -> 94 th node\n",
      "NODE : 3288667846 -> 95 th node\n",
      "NODE : 60541128 -> 96 th node\n",
      "NODE : 38217933 -> 97 th node\n",
      "NODE : 3107101390 -> 98 th node\n",
      "NODE : 17743823 -> 99 th node\n",
      "NODE : 17462484 -> 100 th node\n",
      "NODE : 11690462 -> 101 th node\n",
      "NODE : 1227879650 -> 102 th node\n",
      "NODE : 1620555499 -> 103 th node\n",
      "NODE : 37399280 -> 104 th node\n",
      "NODE : 2822884596 -> 105 th node\n",
      "Rate limit reached. Sleeping for: 892\n",
      "NODE : 2601209846 -> 106 th node\n",
      "NODE : 131643383 -> 107 th node\n"
     ]
    },
    {
     "data": {
      "text/plain": [
       "{2397: [18993881],\n",
       " 2349231: [412275369],\n",
       " 5408472: [36878380,\n",
       "  9469312,\n",
       "  83840835,\n",
       "  37399280,\n",
       "  985237088,\n",
       "  3288667846,\n",
       "  3301807233,\n",
       "  346568487,\n",
       "  14466330,\n",
       "  16307774,\n",
       "  763052115392593920],\n",
       " 6510972: [89451259],\n",
       " 9469312: [5408472],\n",
       " 11141482: [19480672],\n",
       " 11690462: [80531573, 18993881],\n",
       " 14169505: [26803521, 18993881],\n",
       " 14466330: [5408472],\n",
       " 14719912: [19480672],\n",
       " 14977851: [3373861815],\n",
       " 16295095: [140953186],\n",
       " 16307774: [5408472],\n",
       " 16739177: [1462377758],\n",
       " 17270684: [149895490, 21773404, 2533212240],\n",
       " 17462484: [18993881],\n",
       " 17743823: [3107101390, 89451259],\n",
       " 18214510: [89451259],\n",
       " 18993881: [17462484,\n",
       "  538660461,\n",
       "  14169505,\n",
       "  2397,\n",
       "  233476521,\n",
       "  11690462,\n",
       "  1620555499,\n",
       "  80531573,\n",
       "  80325905,\n",
       "  26803521,\n",
       "  763052115392593920],\n",
       " 19063698: [89451259],\n",
       " 19480672: [198599803,\n",
       "  60541128,\n",
       "  11141482,\n",
       "  413850915,\n",
       "  3107101390,\n",
       "  14719912,\n",
       "  219229296,\n",
       "  386532355,\n",
       "  1194779960,\n",
       "  763052115392593920,\n",
       "  1227879650],\n",
       " 21773404: [255051048, 1316984629, 149895490, 2533212240, 17270684],\n",
       " 25278292: [1462377758],\n",
       " 26803521: [18993881, 14169505],\n",
       " 33455545: [2970597923, 2428017044, 412275369],\n",
       " 36878380: [5408472],\n",
       " 37399280: [5408472],\n",
       " 38217933: [788770105723351040, 3827734997],\n",
       " 50429772: [140953186],\n",
       " 54895437: [3373861815],\n",
       " 56455192: [412275369, 97416338],\n",
       " 60541128: [808051518242979841, 19480672],\n",
       " 80325905: [18993881, 1227879650],\n",
       " 80531573: [18993881, 1227879650, 11690462],\n",
       " 83840835: [5408472],\n",
       " 89451259: [19063698,\n",
       "  17743823,\n",
       "  104211492,\n",
       "  764012354631675905,\n",
       "  6510972,\n",
       "  267213498,\n",
       "  4558969540,\n",
       "  2913897801,\n",
       "  18214510,\n",
       "  456700539,\n",
       "  763052115392593920],\n",
       " 94305347: [412275369],\n",
       " 97416338: [56455192, 412275369],\n",
       " 104211492: [89451259],\n",
       " 110720035: [140953186],\n",
       " 112683173: [2533212240],\n",
       " 124136807: [3373861815],\n",
       " 131643383: [1462377758],\n",
       " 140953186: [2601209846,\n",
       "  747810194080563200,\n",
       "  3229980963,\n",
       "  16295095,\n",
       "  50429772,\n",
       "  470330975,\n",
       "  110720035,\n",
       "  1227879650,\n",
       "  171075163,\n",
       "  471996981,\n",
       "  763052115392593920],\n",
       " 149895490: [2533212240, 17270684, 21773404],\n",
       " 171075163: [140953186],\n",
       " 178525062: [2533212240],\n",
       " 191531567: [700793835207536640, 1665035946, 2822884596, 3827734997],\n",
       " 198599803: [19480672],\n",
       " 219229296: [19480672],\n",
       " 233476521: [18993881],\n",
       " 248231788: [255051048, 2533212240],\n",
       " 255051048: [2533212240, 599665849, 21773404, 248231788],\n",
       " 267213498: [89451259],\n",
       " 299132357: [3373861815],\n",
       " 323360434: [1665035946, 2822884596, 3827734997],\n",
       " 337780586: [700793835207536640, 1665035946, 3827734997],\n",
       " 346568487: [5408472],\n",
       " 386532355: [19480672],\n",
       " 392394305: [412275369],\n",
       " 396746547: [3373861815],\n",
       " 397513638: [412275369],\n",
       " 412275369: [2428017044,\n",
       "  763052115392593920,\n",
       "  392394305,\n",
       "  94305347,\n",
       "  56455192,\n",
       "  33455545,\n",
       "  2970597923,\n",
       "  2349231,\n",
       "  97416338,\n",
       "  397513638],\n",
       " 413850915: [19480672],\n",
       " 456700539: [89451259],\n",
       " 470330975: [140953186],\n",
       " 471996981: [140953186],\n",
       " 476950107: [700793835207536640, 1665035946, 3827734997],\n",
       " 538660461: [18993881],\n",
       " 599665849: [255051048, 2533212240],\n",
       " 606276660: [1462377758],\n",
       " 974579778: [3373861815],\n",
       " 985237088: [5408472],\n",
       " 1090378620: [853209186263592964, 2287331420, 1462377758],\n",
       " 1194779960: [19480672],\n",
       " 1227879650: [808051518242979841, 80325905, 80531573, 19480672, 140953186],\n",
       " 1316984629: [2533212240, 21773404],\n",
       " 1462377758: [606276660,\n",
       "  2315211631,\n",
       "  808051518242979841,\n",
       "  16739177,\n",
       "  1696005139,\n",
       "  131643383,\n",
       "  2412857886,\n",
       "  853209186263592964,\n",
       "  1090378620,\n",
       "  25278292,\n",
       "  763052115392593920],\n",
       " 1620555499: [18993881],\n",
       " 1665035946: [771716816817324032,\n",
       "  700793835207536640,\n",
       "  191531567,\n",
       "  476950107,\n",
       "  337780586,\n",
       "  323360434,\n",
       "  2822884596,\n",
       "  3827734997],\n",
       " 1696005139: [1462377758],\n",
       " 2287331420: [2533212240, 1090378620],\n",
       " 2315211631: [1462377758],\n",
       " 2412857886: [1462377758],\n",
       " 2428017044: [2970597923, 412275369, 33455545],\n",
       " 2533212240: [255051048,\n",
       "  112683173,\n",
       "  1316984629,\n",
       "  2287331420,\n",
       "  599665849,\n",
       "  178525062,\n",
       "  149895490,\n",
       "  21773404,\n",
       "  248231788,\n",
       "  17270684,\n",
       "  763052115392593920],\n",
       " 2601209846: [140953186],\n",
       " 2638462108: [770943875968098305, 3373861815],\n",
       " 2822884596: [771716816817324032,\n",
       "  700793835207536640,\n",
       "  191531567,\n",
       "  1665035946,\n",
       "  323360434,\n",
       "  3827734997],\n",
       " 2913897801: [788770105723351040, 89451259],\n",
       " 2970597923: [412275369, 33455545, 2428017044],\n",
       " 3107101390: [19480672, 17743823],\n",
       " 3229980963: [808051518242979841, 140953186],\n",
       " 3288667846: [5408472],\n",
       " 3301807233: [5408472],\n",
       " 3373861815: [299132357,\n",
       "  709386297358598144,\n",
       "  974579778,\n",
       "  124136807,\n",
       "  396746547,\n",
       "  14977851,\n",
       "  2638462108,\n",
       "  763052115392593920,\n",
       "  54895437,\n",
       "  770943875968098305],\n",
       " 3827734997: [1665035946,\n",
       "  476950107,\n",
       "  337780586,\n",
       "  771716816817324032,\n",
       "  2822884596,\n",
       "  323360434,\n",
       "  700793835207536640,\n",
       "  191531567,\n",
       "  38217933,\n",
       "  788770105723351040,\n",
       "  763052115392593920],\n",
       " 4558969540: [89451259],\n",
       " 700793835207536640: [1665035946,\n",
       "  337780586,\n",
       "  191531567,\n",
       "  2822884596,\n",
       "  3827734997,\n",
       "  476950107],\n",
       " 709386297358598144: [3373861815],\n",
       " 747810194080563200: [140953186],\n",
       " 763052115392593920: [19480672,\n",
       "  140953186,\n",
       "  412275369,\n",
       "  2533212240,\n",
       "  3827734997,\n",
       "  3373861815,\n",
       "  5408472,\n",
       "  18993881,\n",
       "  89451259,\n",
       "  1462377758],\n",
       " 764012354631675905: [89451259],\n",
       " 770943875968098305: [2638462108, 3373861815],\n",
       " 771716816817324032: [1665035946, 2822884596, 3827734997],\n",
       " 788770105723351040: [3827734997, 2913897801, 38217933],\n",
       " 808051518242979841: [60541128, 1227879650, 3229980963, 1462377758],\n",
       " 853209186263592964: [1090378620, 1462377758]}"
      ]
     },
     "execution_count": 479,
     "metadata": {},
     "output_type": "execute_result"
    }
   ],
   "source": [
    "for i in range(0,len(all_nodes)):\n",
    "    if all_nodes[i] in set(first_nodes) :\n",
    "        if (user_id not in set(network[all_nodes[i]])) :\n",
    "            network[all_nodes[i]] += [user_id]\n",
    "    if all_nodes[i] in set(second_nodes) :\n",
    "        print('NODE : ' + str(all_nodes[i]) + ' -> ' + str(i) +' th node')\n",
    "        connections_second_nodes = find_connections(all_nodes[i],page_max)\n",
    "        inner_connections = list(set(connections_second_nodes) & set(all_nodes))\n",
    "        for inner_node in inner_connections :\n",
    "            if (inner_node not in set(network[all_nodes[i]])) :\n",
    "                network[all_nodes[i]] += [inner_node]\n",
    "            if (all_nodes[i] not in set((network[inner_node]))) :\n",
    "                network[inner_node] += [all_nodes[i]]\n",
    "                \n",
    "network"
   ]
  },
  {
   "cell_type": "markdown",
   "metadata": {},
   "source": [
    "# 2. Discover some of the properties of the collected network"
   ]
  },
  {
   "cell_type": "markdown",
   "metadata": {},
   "source": [
    "## 2.1 Adjacency matrix"
   ]
  },
  {
   "cell_type": "markdown",
   "metadata": {},
   "source": [
    "Congradulations! You have now created a dictionary that describes a real Twitter network!\n",
    "We now want to transform this dictionary into the adjacency (or weight) matrix that you learned about in your first class. "
   ]
  },
  {
   "cell_type": "code",
   "execution_count": 481,
   "metadata": {},
   "outputs": [],
   "source": [
    "N = len(all_nodes)\n",
    "W=np.zeros([N,N], dtype=int)"
   ]
  },
  {
   "cell_type": "code",
   "execution_count": 482,
   "metadata": {},
   "outputs": [],
   "source": [
    "i = 0\n",
    "for node in all_nodes:\n",
    "    W[i,:] = [n in network[node] for n in all_nodes] \n",
    "    i += 1"
   ]
  },
  {
   "cell_type": "markdown",
   "metadata": {},
   "source": [
    "Remember that a weight matrix should be symmetric. Check if it is:"
   ]
  },
  {
   "cell_type": "code",
   "execution_count": 484,
   "metadata": {},
   "outputs": [
    {
     "data": {
      "text/plain": [
       "(array([], dtype=int64), array([], dtype=int64))"
      ]
     },
     "execution_count": 484,
     "metadata": {},
     "output_type": "execute_result"
    }
   ],
   "source": [
    "np.nonzero(W-W.transpose())"
   ]
  },
  {
   "cell_type": "markdown",
   "metadata": {},
   "source": [
    "**Question 1:**\n",
    "It might happen that $W \\neq W^{T} $ for some $(i,j)$. Explain why this might be the case."
   ]
  },
  {
   "cell_type": "markdown",
   "metadata": {},
   "source": [
    "It might happen when the network is not fully described. The fact that an inner node can be missed for example. Here we don't have this problem because I have downloaded all the connections of all the second_node."
   ]
  },
  {
   "cell_type": "markdown",
   "metadata": {},
   "source": [
    "Impose your weight matrix to be symmetric."
   ]
  },
  {
   "cell_type": "code",
   "execution_count": 485,
   "metadata": {},
   "outputs": [],
   "source": [
    "# Make W is symmetric\n",
    "bigger = W.transpose() > W\n",
    "#plt.spy(bigger)"
   ]
  },
  {
   "cell_type": "code",
   "execution_count": 486,
   "metadata": {},
   "outputs": [],
   "source": [
    "W = W - W*bigger + W.transpose()*bigger"
   ]
  },
  {
   "cell_type": "markdown",
   "metadata": {},
   "source": [
    "Plot the weight matrix of your collected network.\n",
    "\n",
    "Hint: use `plt.spy()` to visualize a matrix."
   ]
  },
  {
   "cell_type": "code",
   "execution_count": 488,
   "metadata": {},
   "outputs": [
    {
     "data": {
      "text/plain": [
       "Text(0.5,1.05,'Adjacency Matrix W')"
      ]
     },
     "execution_count": 488,
     "metadata": {},
     "output_type": "execute_result"
    },
    {
     "data": {
      "image/png": "[encoded data removed]",
      "text/plain": [
       "<matplotlib.figure.Figure at 0x110f43c88>"
      ]
     },
     "metadata": {},
     "output_type": "display_data"
    }
   ],
   "source": [
    "plt.figure(figsize=(10,10))\n",
    "plt.spy(W)\n",
    "plt.title('Adjacency Matrix W')"
   ]
  },
  {
   "cell_type": "markdown",
   "metadata": {},
   "source": [
    "**Question 2:**\n",
    "What is the maximum number of links $L_{max}$ in a network with $N$ nodes (where $N$ is the number of nodes in your collected network)? How many links $L$ are there in your collected network? Comment on how $L$ and $L_{max}$ compare."
   ]
  },
  {
   "cell_type": "code",
   "execution_count": 489,
   "metadata": {},
   "outputs": [
    {
     "name": "stdout",
     "output_type": "stream",
     "text": [
      "L =  146\n",
      "L_max =  5778\n"
     ]
    }
   ],
   "source": [
    "L = int(sum(sum(W))/2)\n",
    "L_max = int(N*(N-1)/2)\n",
    "\n",
    "print(\"L = \", L)\n",
    "print(\"L_max = \", L_max)"
   ]
  },
  {
   "cell_type": "markdown",
   "metadata": {},
   "source": [
    "In theory : $L_{max}$ = $\\left( \\begin{matrix} N \\\\ 2 \\end{matrix} \\right)$ . As we can see L in much smaller than $L_{max}$. This means that the network is very sparse, but this is perfectly normal as we are studying a social network, and a very small sample of it. \n"
   ]
  },
  {
   "cell_type": "markdown",
   "metadata": {},
   "source": [
    "## 2.2 Degrees distribution"
   ]
  },
  {
   "cell_type": "markdown",
   "metadata": {},
   "source": [
    "Plot a histogram of the degree distribution. "
   ]
  },
  {
   "cell_type": "code",
   "execution_count": 490,
   "metadata": {},
   "outputs": [
    {
     "name": "stdout",
     "output_type": "stream",
     "text": [
      "[11 10 11 11 10 11 11 11 11 11 10  1  2  1  3  6  3  4  2  1  1  2  1  2  1\n",
      "  1  3  1  1  1  2  1  4  1  4  1  1  1  2  1  1  1  1  1  1  2  3  1  2  1\n",
      "  1  1  3  5  2  1  1  1  1  1  1  1  3  2  1  1  1  1  3  1  1  3  1  1  1\n",
      "  1  2  1  3  2  3  2  1  1  1  1  8  1  3  1  2  1  3  1  1  1  2  2  2  2\n",
      "  1  2  5  1  1  6  1  1]\n"
     ]
    }
   ],
   "source": [
    "p = sum(W) \n",
    "print(p)"
   ]
  },
  {
   "cell_type": "code",
   "execution_count": 493,
   "metadata": {},
   "outputs": [
    {
     "data": {
      "image/png": "[encoded data removed]",
      "text/plain": [
       "<matplotlib.figure.Figure at 0x11142e320>"
      ]
     },
     "metadata": {},
     "output_type": "display_data"
    }
   ],
   "source": [
    "plt.figure(figsize=(15,7))\n",
    "plt.hist(p);"
   ]
  },
  {
   "cell_type": "markdown",
   "metadata": {},
   "source": [
    "**Question 3:** Comment on the plot. What do you observe? Would you expect a similar degree disribution in the complete Twitter network?"
   ]
  },
  {
   "cell_type": "markdown",
   "metadata": {},
   "source": [
    "We observe that the distrubtion is mainly constituted of single links. This is because we sample randomly the the network. In the real twitter network, we should see less single links. "
   ]
  },
  {
   "cell_type": "markdown",
   "metadata": {},
   "source": [
    "## 2.3 Average degree"
   ]
  },
  {
   "cell_type": "markdown",
   "metadata": {},
   "source": [
    "Calculate the average degree of your collected network."
   ]
  },
  {
   "cell_type": "code",
   "execution_count": 494,
   "metadata": {},
   "outputs": [
    {
     "data": {
      "text/plain": [
       "2.7037037037037037"
      ]
     },
     "execution_count": 494,
     "metadata": {},
     "output_type": "execute_result"
    }
   ],
   "source": [
    "d_avg = sum(p)/N\n",
    "d_avg"
   ]
  },
  {
   "cell_type": "markdown",
   "metadata": {},
   "source": [
    "## 2.4 Diameter of the collected network"
   ]
  },
  {
   "cell_type": "markdown",
   "metadata": {},
   "source": [
    "**Question 4:** What is the diameter of the collected network? Please justify."
   ]
  },
  {
   "cell_type": "markdown",
   "metadata": {},
   "source": [
    "The diameter of the grah is the longest of the shortest path between 2 nodes. By construction the shortest path between 2 nodes of `first_nodes` will always pass through a the center of the network `user_id` or by a direct link : $d \\leq 2$. The shortest path between two nodes of `second_node` would pass by a node of `first_nodes`or by the center of the network `user_id` : $d \\leq 4$. So the longest of the shortest path would be the following diameter : $d_{max} =4$. "
   ]
  },
  {
   "cell_type": "markdown",
   "metadata": {},
   "source": [
    "## 2.5 Pruning the collected network"
   ]
  },
  {
   "cell_type": "markdown",
   "metadata": {},
   "source": [
    "You might notice that some nodes have very few connections and hence our matrix is very sparse. Prune the collected network so that you keep only the nodes that have a degree that is greater than the average degree and plot the new adjacency matrix."
   ]
  },
  {
   "cell_type": "code",
   "execution_count": 495,
   "metadata": {},
   "outputs": [
    {
     "name": "stdout",
     "output_type": "stream",
     "text": [
      "<class 'list'>\n"
     ]
    }
   ],
   "source": [
    "index_select = np.array([val >= d_avg for val in sum(W)])\n",
    "\n",
    "Wpruned = W[index_select,:]\n",
    "Wpruned = Wpruned[:,index_select]"
   ]
  },
  {
   "cell_type": "code",
   "execution_count": 496,
   "metadata": {},
   "outputs": [
    {
     "data": {
      "image/png": "[encoded data removed]",
      "text/plain": [
       "<matplotlib.figure.Figure at 0x11144e320>"
      ]
     },
     "metadata": {},
     "output_type": "display_data"
    }
   ],
   "source": [
    "plt.figure(figsize=(8,8))\n",
    "plt.spy(Wpruned)\n",
    "plt.title('Adjacency Matrix W');"
   ]
  },
  {
   "cell_type": "code",
   "execution_count": 498,
   "metadata": {},
   "outputs": [
    {
     "name": "stdout",
     "output_type": "stream",
     "text": [
      "[ 5  1  2  2  4  1 10  3  2  1 10  3  6  1  2  3  2  4  3  3  4  3  2  1  3\n",
      "  3  8  3  3  4  6]\n"
     ]
    },
    {
     "data": {
      "image/png": "[encoded data removed]",
      "text/plain": [
       "<matplotlib.figure.Figure at 0x1111bd1d0>"
      ]
     },
     "metadata": {},
     "output_type": "display_data"
    }
   ],
   "source": [
    "p_pruned = sum(Wpruned) \n",
    "print(p_pruned)\n",
    "plt.figure(figsize=(15,7))\n",
    "plt.hist(p_pruned);"
   ]
  },
  {
   "cell_type": "markdown",
   "metadata": {},
   "source": [
    "As we see the shape of the matrix is less sparse than in the previous case, this is more similar to an actual real twitter network"
   ]
  },
  {
   "cell_type": "code",
   "execution_count": null,
   "metadata": {},
   "outputs": [],
   "source": []
  }
 ],
 "metadata": {
  "kernelspec": {
   "display_name": "Python 3",
   "language": "python",
   "name": "python3"
  },
  "language_info": {
   "codemirror_mode": {
    "name": "ipython",
    "version": 3
   },
   "file_extension": ".py",
   "mimetype": "text/x-python",
   "name": "python",
   "nbconvert_exporter": "python",
   "pygments_lexer": "ipython3",
   "version": "3.6.2"
  }
 },
 "nbformat": 4,
 "nbformat_minor": 1
}
